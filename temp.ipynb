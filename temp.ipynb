{
 "cells": [
  {
   "cell_type": "code",
   "execution_count": 1,
   "metadata": {},
   "outputs": [
    {
     "name": "stdout",
     "output_type": "stream",
     "text": [
      "Requirement already satisfied: numpy in ./venv/lib/python3.11/site-packages (2.1.2)\n",
      "\n",
      "\u001b[1m[\u001b[0m\u001b[34;49mnotice\u001b[0m\u001b[1;39;49m]\u001b[0m\u001b[39;49m A new release of pip is available: \u001b[0m\u001b[31;49m23.1.2\u001b[0m\u001b[39;49m -> \u001b[0m\u001b[32;49m24.3.1\u001b[0m\n",
      "\u001b[1m[\u001b[0m\u001b[34;49mnotice\u001b[0m\u001b[1;39;49m]\u001b[0m\u001b[39;49m To update, run: \u001b[0m\u001b[32;49mpip install --upgrade pip\u001b[0m\n"
     ]
    }
   ],
   "source": [
    "!pip install numpy"
   ]
  },
  {
   "cell_type": "code",
   "execution_count": 3,
   "metadata": {},
   "outputs": [],
   "source": [
    "import fitz"
   ]
  },
  {
   "cell_type": "code",
   "execution_count": 6,
   "metadata": {},
   "outputs": [],
   "source": [
    "def extract_text_from_pdf(pdf_path):\n",
    "    doc = fitz.open(pdf_path)\n",
    "    text_chunks = []\n",
    "    print(f\"page_count = {doc.page_count}\")\n",
    "    for page_num in range(doc.page_count):\n",
    "        page = doc.load_page(page_num)\n",
    "        text = page.get_text(\"text\")\n",
    "        if text.strip():\n",
    "            text_chunks.append(text.strip())\n",
    "    \n",
    "    doc.close()\n",
    "    return text_chunks\n"
   ]
  },
  {
   "cell_type": "code",
   "execution_count": 7,
   "metadata": {},
   "outputs": [
    {
     "name": "stdout",
     "output_type": "stream",
     "text": [
      "page_count = 402\n"
     ]
    }
   ],
   "source": [
    "pdf_path = \"constitution_of_india.pdf\"  # Your PDF path\n",
    "pages = extract_text_from_pdf(pdf_path)\n"
   ]
  },
  {
   "cell_type": "code",
   "execution_count": 18,
   "metadata": {},
   "outputs": [
    {
     "name": "stdout",
     "output_type": "stream",
     "text": [
      "THE CONSTITUTION OF INDIA\n",
      "(Part II.—Citizenship)\n",
      "5\n",
      "Provided that nothing in this article shall apply to a person who, after \n",
      "having so migrated to the territory now included in Pakistan, has returned to the \n",
      "territory of India under a permit for resettlement or permanent return issued by \n",
      "or under the authority of any law and every such person shall for the purposes \n",
      "of clause (b) of article 6 be deemed to have migrated to the territory of India \n",
      "after the nineteenth day of July, 1948.\n",
      "8. Rights of citizenship of certain persons of Indian origin residing \n",
      "outside India.—Notwithstanding anything in article 5, any person who or \n",
      "either of whose parents or any of whose grand-parents was born in India as \n",
      "defined in the Government of India Act, 1935 (as originally enacted), and who \n",
      "is ordinarily residing in any country outside India as so defined shall be deemed \n",
      "to be a citizen of India if he has been registered as a citizen of India by the \n",
      "diplomatic or consular representative of India in the country where he is for the \n",
      "time being residing on an application made by him therefor to such diplomatic \n",
      "or consular representative, whether before or after the commencement of this \n",
      "Constitution, in the form and manner prescribed by the Government of the \n",
      "Dominion of India or the Government of India. \n",
      "9. Persons voluntarily acquiring citizenship of a foreign State not to \n",
      "be citizens.—No person shall be a citizen of India by virtue of article 5, or be \n",
      "deemed to be a citizen of India by virtue of article 6 or article 8, if he has \n",
      "voluntarily acquired the citizenship of any foreign State.\n",
      "10. Continuance of the rights of citizenship.—Every person who is or \n",
      "is deemed to be a citizen of India under any of the foregoing provisions of this \n",
      "Part shall, subject to the provisions of any law that may be made by Parliament, \n",
      "continue to be such citizen.\n",
      "11. Parliament to regulate the right of citizenship by law.—Nothing \n",
      "in the foregoing provisions of this Part shall derogate from the power of \n",
      "Parliament to make any provision with respect to the acquisition and \n",
      "termination of citizenship and all other matters relating to citizenship.\n"
     ]
    }
   ],
   "source": [
    "i=0\n",
    "i=int(input(\"Enter the page number \"))\n",
    "print(pages[i])\n",
    "    \n"
   ]
  },
  {
   "cell_type": "code",
   "execution_count": null,
   "metadata": {},
   "outputs": [],
   "source": []
  }
 ],
 "metadata": {
  "kernelspec": {
   "display_name": "myenv",
   "language": "python",
   "name": "python3"
  },
  "language_info": {
   "codemirror_mode": {
    "name": "ipython",
    "version": 3
   },
   "file_extension": ".py",
   "mimetype": "text/x-python",
   "name": "python",
   "nbconvert_exporter": "python",
   "pygments_lexer": "ipython3",
   "version": "3.11.4"
  }
 },
 "nbformat": 4,
 "nbformat_minor": 2
}
